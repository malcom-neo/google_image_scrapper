{
 "cells": [
  {
   "cell_type": "code",
   "execution_count": 123,
   "id": "83fedbb0",
   "metadata": {},
   "outputs": [],
   "source": [
    "import csv\n",
    "from datetime import datetime\n",
    "from selenium import webdriver\n",
    "from webdriver_manager.chrome import ChromeDriverManager\n",
    "import requests\n",
    "import re\n",
    "import time\n",
    "\n",
    "google_html_image_body = \"/html/body/div[2]/c-wiz/div[3]/div[1]/div/div/div/div[1]/div[1]/span/div[1]/div[1]\""
   ]
  },
  {
   "cell_type": "code",
   "execution_count": 164,
   "id": "a7e8e0bf",
   "metadata": {},
   "outputs": [],
   "source": [
    "def image_scrapper(query: str, folder_dir:str = '' , number_of_image : int =100 ) -> None:\n",
    "    \"\"\"Run the main program routine\"\"\"\n",
    "    # setup web driver\n",
    "    driver = webdriver.Chrome(ChromeDriverManager().install())\n",
    "    driver.implicitly_wait(1)\n",
    "    \n",
    "    search_url = \"https://www.google.com/search?safe=off&site=&tbm=isch&source=hp&q={q}&oq={q}&gs_l=img\"\n",
    "    driver.get(search_url.format(q=query))\n",
    "    \n",
    "    download_img_on_page(folder_dir, number_of_image, driver)\n",
    "    \n",
    "    driver.quit()"
   ]
  },
  {
   "cell_type": "code",
   "execution_count": 216,
   "id": "e7be2150",
   "metadata": {},
   "outputs": [],
   "source": [
    "def download_img_on_page( folder_path: str, number_of_image : int, driver)-> None:\n",
    "    thumbnail_body = driver.find_element_by_xpath(google_html_image_body)\n",
    "    \n",
    "    downloaded_images=0\n",
    "    \n",
    "    def scroll_down():\n",
    "        img_elements = driver.find_element_by_xpath(google_html_image_body).find_elements_by_css_selector(\"img.rg_i.Q4LuWd\")\n",
    "        length = len(img_elements)\n",
    "        print(\"original length\", length)\n",
    "\n",
    "        while True:\n",
    "            driver.execute_script(\"window.scrollTo(0, document.body.scrollHeight);\")\n",
    "            time.sleep(5)\n",
    "            if (length == len(driver.find_element_by_xpath(google_html_image_body).find_elements_by_css_selector(\"img.rg_i.Q4LuWd\"))):\n",
    "                break;\n",
    "            else:\n",
    "                length = len(driver.find_element_by_xpath(google_html_image_body).find_elements_by_css_selector(\"img.rg_i.Q4LuWd\"))\n",
    "\n",
    "    while (downloaded_images < number_of_image):\n",
    "        scroll_down()\n",
    "        img_elements = thumbnail_body.find_elements_by_css_selector(\"img.rg_i.Q4LuWd\")\n",
    "        \n",
    "        for img_no in img_elements[downloaded_images:len(img_elements)]:\n",
    "            try:\n",
    "                img_no.click()\n",
    "                time.sleep(3)\n",
    "            except Exception:\n",
    "                continue\n",
    "                \n",
    "            try:\n",
    "                actual_image = driver.find_element_by_css_selector('img.n3VNCb.KAlRDb')\n",
    "\n",
    "                if actual_image.get_attribute('src') and 'http' in actual_image.get_attribute('src'):\n",
    "                    image_content = requests.get(actual_image.get_attribute('src'),headers={\"User-Agent\": \"XY\"}).content\n",
    "                    with open(folder_path +'/'+ str(downloaded_images) +'.jpg', 'wb') as f:\n",
    "                        f.write(image_content)\n",
    "                        downloaded_images += 1\n",
    "                elif actual_image.get_attribute('src') and 'data:image/' in actual_image.get_attribute('src'):\n",
    "                    head, data = img_data.split(',', 1)\n",
    "                    file_ext = head.split(';')[0].split('/')[1]\n",
    "                    plain_data = base64.b64decode(data)\n",
    "                    with open(folder_path +'/'+ str(downloaded_images) +'.' + file_ext, 'wb') as f:\n",
    "                        f.write(plain_data)\n",
    "                        downloaded_images += 1\n",
    "            except Exception:\n",
    "                continue\n",
    "                \n",
    "            if (downloaded_images > number_of_image):\n",
    "                return\n",
    "        else:\n",
    "            load_more_button = driver.find_element_by_css_selector(\".mye4qd\")\n",
    "            if load_more_button:\n",
    "                driver.execute_script(\"document.querySelector('.mye4qd').click();\")\n",
    "            else:\n",
    "                print(\"ERROR. Unable to press load more button.\")"
   ]
  },
  {
   "cell_type": "code",
   "execution_count": 217,
   "id": "cd523bc1",
   "metadata": {
    "scrolled": true
   },
   "outputs": [
    {
     "name": "stdout",
     "output_type": "stream",
     "text": [
      "\n"
     ]
    },
    {
     "name": "stderr",
     "output_type": "stream",
     "text": [
      "[WDM] - ====== WebDriver manager ======\n",
      "[WDM] - Current google-chrome version is 102.0.5005\n",
      "[WDM] - Get LATEST chromedriver version for 102.0.5005 google-chrome\n",
      "[WDM] - Driver [/home/malcom/.wdm/drivers/chromedriver/linux64/102.0.5005.61/chromedriver] found in cache\n",
      "/tmp/ipykernel_79872/1959220164.py:4: DeprecationWarning: executable_path has been deprecated, please pass in a Service object\n",
      "  driver = webdriver.Chrome(ChromeDriverManager().install())\n",
      "/tmp/ipykernel_79872/3514556914.py:2: DeprecationWarning: find_element_by_xpath is deprecated. Please use find_element(by=By.XPATH, value=xpath) instead\n",
      "  thumbnail_body = driver.find_element_by_xpath(google_html_image_body)\n",
      "/tmp/ipykernel_79872/3514556914.py:7: DeprecationWarning: find_element_by_xpath is deprecated. Please use find_element(by=By.XPATH, value=xpath) instead\n",
      "  img_elements = driver.find_element_by_xpath(google_html_image_body).find_elements_by_css_selector(\"img.rg_i.Q4LuWd\")\n",
      "/tmp/ipykernel_79872/3514556914.py:7: DeprecationWarning: find_elements_by_css_selector is deprecated. Please use find_elements(by=By.CSS_SELECTOR, value=css_selector) instead\n",
      "  img_elements = driver.find_element_by_xpath(google_html_image_body).find_elements_by_css_selector(\"img.rg_i.Q4LuWd\")\n"
     ]
    },
    {
     "name": "stdout",
     "output_type": "stream",
     "text": [
      "original length 48\n"
     ]
    },
    {
     "name": "stderr",
     "output_type": "stream",
     "text": [
      "/tmp/ipykernel_79872/3514556914.py:14: DeprecationWarning: find_element_by_xpath is deprecated. Please use find_element(by=By.XPATH, value=xpath) instead\n",
      "  if (length == len(driver.find_element_by_xpath(google_html_image_body).find_elements_by_css_selector(\"img.rg_i.Q4LuWd\"))):\n",
      "/tmp/ipykernel_79872/3514556914.py:14: DeprecationWarning: find_elements_by_css_selector is deprecated. Please use find_elements(by=By.CSS_SELECTOR, value=css_selector) instead\n",
      "  if (length == len(driver.find_element_by_xpath(google_html_image_body).find_elements_by_css_selector(\"img.rg_i.Q4LuWd\"))):\n",
      "/tmp/ipykernel_79872/3514556914.py:17: DeprecationWarning: find_element_by_xpath is deprecated. Please use find_element(by=By.XPATH, value=xpath) instead\n",
      "  length = len(driver.find_element_by_xpath(google_html_image_body).find_elements_by_css_selector(\"img.rg_i.Q4LuWd\"))\n",
      "/tmp/ipykernel_79872/3514556914.py:17: DeprecationWarning: find_elements_by_css_selector is deprecated. Please use find_elements(by=By.CSS_SELECTOR, value=css_selector) instead\n",
      "  length = len(driver.find_element_by_xpath(google_html_image_body).find_elements_by_css_selector(\"img.rg_i.Q4LuWd\"))\n",
      "/tmp/ipykernel_79872/3514556914.py:21: DeprecationWarning: find_elements_by_css_selector is deprecated. Please use find_elements(by=By.CSS_SELECTOR, value=css_selector) instead\n",
      "  img_elements = thumbnail_body.find_elements_by_css_selector(\"img.rg_i.Q4LuWd\")\n",
      "/tmp/ipykernel_79872/3514556914.py:31: DeprecationWarning: find_element_by_css_selector is deprecated. Please use find_element(by=By.CSS_SELECTOR, value=css_selector) instead\n",
      "  actual_image = driver.find_element_by_css_selector('img.n3VNCb.KAlRDb')\n"
     ]
    }
   ],
   "source": [
    "image_scrapper(\"oil palm\", \"dataset\", 300)"
   ]
  },
  {
   "cell_type": "code",
   "execution_count": null,
   "id": "790c39c7",
   "metadata": {},
   "outputs": [],
   "source": []
  }
 ],
 "metadata": {
  "kernelspec": {
   "display_name": "Python 3 (ipykernel)",
   "language": "python",
   "name": "python3"
  },
  "language_info": {
   "codemirror_mode": {
    "name": "ipython",
    "version": 3
   },
   "file_extension": ".py",
   "mimetype": "text/x-python",
   "name": "python",
   "nbconvert_exporter": "python",
   "pygments_lexer": "ipython3",
   "version": "3.10.4"
  }
 },
 "nbformat": 4,
 "nbformat_minor": 5
}
